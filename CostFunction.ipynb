{
 "cells": [
  {
   "cell_type": "code",
   "execution_count": null,
   "id": "5f5336a1",
   "metadata": {},
   "outputs": [],
   "source": [
    "import numpy as np\n",
    "%matplotlib widget\n",
    "import matplotlib.pyplot as plt \n",
    "from lab_utils_uni import plt_intuition, plt_stationary, plt_update_onclick, soup_bowl\n",
    "plt.style.use('./deeplearning.mplstyle')\n",
    "\n",
    "x_train = np.array([2.0, 3.0])\n",
    "y_train = np.array([400.0, 500.0])\n",
    "\n",
    "def compute_cost(x, y, w, b):\n",
    "       #number of training examples\n",
    "       m = x.shape[0]\n",
    "\n",
    "       cost_sum = 0\n",
    "       for i in range(m):\n",
    "              f_wb = w * x[i] + b\n",
    "              cost = (f_wb - y[i]) ** 2\n",
    "              cost_sum = cost_sum + cost\n",
    "       total_cost = (1 / (2 * m) * cost_sum)\n",
    "\n",
    "       return total_cost\n",
    "\n",
    "plt_intuition(x_train, y_train)\n",
    "\n",
    "x_train = np.array([1.0, 1.7, 2.0, 2.5, 3.0, 3.2])\n",
    "y_train = np.array([250, 300, 480, 430, 630, 730])\n",
    "\n",
    "plt.close('all')\n",
    "fig, ax, dyn_items = plt_stationary(x_train, y_train)\n",
    "updater = plt_update_onclick(fig, ax, dyn_items, x_train, y_train)\n",
    "\n",
    "soup_bowl()"
   ]
  }
 ],
 "metadata": {
  "kernelspec": {
   "display_name": "Python 3",
   "language": "python",
   "name": "python3"
  },
  "language_info": {
   "codemirror_mode": {
    "name": "ipython",
    "version": 3
   },
   "file_extension": ".py",
   "mimetype": "text/x-python",
   "name": "python",
   "nbconvert_exporter": "python",
   "pygments_lexer": "ipython3",
   "version": "3.13.2"
  }
 },
 "nbformat": 4,
 "nbformat_minor": 5
}
